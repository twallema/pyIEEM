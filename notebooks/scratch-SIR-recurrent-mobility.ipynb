{
 "cells": [
  {
   "cell_type": "code",
   "execution_count": 1,
   "id": "97464ff9",
   "metadata": {},
   "outputs": [],
   "source": [
    "# OPTIONAL: Load the \"autoreload\" extension so that package code can change\n",
    "%load_ext autoreload\n",
    "# OPTIONAL: always reload modules so that as you change code in src, it gets loaded\n",
    "%autoreload 2"
   ]
  },
  {
   "cell_type": "code",
   "execution_count": 2,
   "id": "11c9e163",
   "metadata": {},
   "outputs": [],
   "source": [
    "import numpy as np\n",
    "import pandas as pd\n",
    "import matplotlib.pyplot as plt\n",
    "from pyIEEM.models.utils import initialize_SIR"
   ]
  },
  {
   "cell_type": "code",
   "execution_count": 3,
   "id": "2e13271d",
   "metadata": {},
   "outputs": [],
   "source": [
    "country = 'SWE'\n",
    "spatial = False\n",
    "age_classes = pd.IntervalIndex.from_tuples([(0,5),(5,10),(10,15),(15,20),(20,25),(25,30),(30,35),(35,40),(40,45),(45,50),(50,55),(55,60),(60,65),(65,70),(70,75),(75,80),(80,120)], closed='left')"
   ]
  },
  {
   "cell_type": "code",
   "execution_count": 5,
   "id": "29d869d3",
   "metadata": {},
   "outputs": [],
   "source": [
    "model = initialize_SIR(country, age_classes, spatial=spatial)"
   ]
  },
  {
   "cell_type": "code",
   "execution_count": 4,
   "id": "c62ab559",
   "metadata": {},
   "outputs": [
    {
     "ename": "TypeError",
     "evalue": "make_social_contact_function.get_contacts() missing 3 required positional arguments: 't', 'states', and 'params'",
     "output_type": "error",
     "traceback": [
      "\u001b[0;31m---------------------------------------------------------------------------\u001b[0m",
      "\u001b[0;31mTypeError\u001b[0m                                 Traceback (most recent call last)",
      "Cell \u001b[0;32mIn [4], line 5\u001b[0m\n\u001b[1;32m      1\u001b[0m fig,ax \u001b[38;5;241m=\u001b[39m plt\u001b[38;5;241m.\u001b[39msubplots()\n\u001b[1;32m      3\u001b[0m \u001b[38;5;28;01mfor\u001b[39;00m i, (spatial, country) \u001b[38;5;129;01min\u001b[39;00m \u001b[38;5;28menumerate\u001b[39m(\u001b[38;5;28mzip\u001b[39m([\u001b[38;5;28;01mTrue\u001b[39;00m, \u001b[38;5;28;01mFalse\u001b[39;00m, \u001b[38;5;28;01mTrue\u001b[39;00m, \u001b[38;5;28;01mFalse\u001b[39;00m],[\u001b[38;5;124m'\u001b[39m\u001b[38;5;124mBE\u001b[39m\u001b[38;5;124m'\u001b[39m, \u001b[38;5;124m'\u001b[39m\u001b[38;5;124mBE\u001b[39m\u001b[38;5;124m'\u001b[39m, \u001b[38;5;124m'\u001b[39m\u001b[38;5;124mSWE\u001b[39m\u001b[38;5;124m'\u001b[39m, \u001b[38;5;124m'\u001b[39m\u001b[38;5;124mSWE\u001b[39m\u001b[38;5;124m'\u001b[39m])):\n\u001b[1;32m      4\u001b[0m     \u001b[38;5;66;03m# load model\u001b[39;00m\n\u001b[0;32m----> 5\u001b[0m     model \u001b[38;5;241m=\u001b[39m \u001b[43minitialize_SIR\u001b[49m\u001b[43m(\u001b[49m\u001b[43mcountry\u001b[49m\u001b[43m,\u001b[49m\u001b[43m \u001b[49m\u001b[43mage_classes\u001b[49m\u001b[43m,\u001b[49m\u001b[43m \u001b[49m\u001b[43mspatial\u001b[49m\u001b[38;5;241;43m=\u001b[39;49m\u001b[43mspatial\u001b[49m\u001b[43m)\u001b[49m\n\u001b[1;32m      6\u001b[0m     \u001b[38;5;66;03m# sim model\u001b[39;00m\n\u001b[1;32m      7\u001b[0m     out\u001b[38;5;241m=\u001b[39mmodel\u001b[38;5;241m.\u001b[39msim(\u001b[38;5;241m500\u001b[39m, method\u001b[38;5;241m=\u001b[39m\u001b[38;5;124m'\u001b[39m\u001b[38;5;124mDOP853\u001b[39m\u001b[38;5;124m'\u001b[39m, rtol\u001b[38;5;241m=\u001b[39m\u001b[38;5;241m1e-4\u001b[39m)\n",
      "File \u001b[0;32m~/Documents/PhD/Corona/Python/git/pyIEEM/src/pyIEEM/models/utils.py:108\u001b[0m, in \u001b[0;36minitialize_SIR\u001b[0;34m(country, age_classes, spatial)\u001b[0m\n\u001b[1;32m    103\u001b[0m \u001b[38;5;66;03m##########\u001b[39;00m\n\u001b[1;32m    104\u001b[0m \u001b[38;5;66;03m## TDPF ##\u001b[39;00m\n\u001b[1;32m    105\u001b[0m \u001b[38;5;66;03m##########\u001b[39;00m\n\u001b[1;32m    107\u001b[0m \u001b[38;5;28;01mfrom\u001b[39;00m \u001b[38;5;21;01mpyIEEM\u001b[39;00m\u001b[38;5;21;01m.\u001b[39;00m\u001b[38;5;21;01mmodels\u001b[39;00m\u001b[38;5;21;01m.\u001b[39;00m\u001b[38;5;21;01mTDPF\u001b[39;00m \u001b[38;5;28;01mimport\u001b[39;00m make_social_contact_function\n\u001b[0;32m--> 108\u001b[0m social_contact_function \u001b[38;5;241m=\u001b[39m \u001b[43mmake_social_contact_function\u001b[49m\u001b[43m(\u001b[49m\u001b[43mcontacts\u001b[49m\u001b[43m)\u001b[49m\u001b[38;5;241;43m.\u001b[39;49m\u001b[43mget_contacts\u001b[49m\u001b[43m(\u001b[49m\u001b[43m)\u001b[49m\n\u001b[1;32m    110\u001b[0m \u001b[38;5;66;03m######################\u001b[39;00m\n\u001b[1;32m    111\u001b[0m \u001b[38;5;66;03m## Initialize model ##\u001b[39;00m\n\u001b[1;32m    112\u001b[0m \u001b[38;5;66;03m######################\u001b[39;00m\n\u001b[1;32m    113\u001b[0m \n\u001b[1;32m    114\u001b[0m \u001b[38;5;66;03m# default initial condition: one infected divided over every possible metapopulation\u001b[39;00m\n\u001b[1;32m    115\u001b[0m initial_states \u001b[38;5;241m=\u001b[39m {\u001b[38;5;124m'\u001b[39m\u001b[38;5;124mS\u001b[39m\u001b[38;5;124m'\u001b[39m: S,\n\u001b[1;32m    116\u001b[0m                   \u001b[38;5;124m'\u001b[39m\u001b[38;5;124mI\u001b[39m\u001b[38;5;124m'\u001b[39m: \u001b[38;5;241m1\u001b[39m\u001b[38;5;241m/\u001b[39m\u001b[38;5;28mlen\u001b[39m(age_classes)\u001b[38;5;241m/\u001b[39m\u001b[38;5;28mlen\u001b[39m(mob)\u001b[38;5;241m*\u001b[39mnp\u001b[38;5;241m.\u001b[39mones(S\u001b[38;5;241m.\u001b[39mshape)}\n",
      "\u001b[0;31mTypeError\u001b[0m: make_social_contact_function.get_contacts() missing 3 required positional arguments: 't', 'states', and 'params'"
     ]
    },
    {
     "data": {
      "image/png": "[encoded data removed]",
      "text/plain": [
       "<Figure size 640x480 with 1 Axes>"
      ]
     },
     "metadata": {},
     "output_type": "display_data"
    }
   ],
   "source": [
    "fig,ax = plt.subplots()\n",
    "\n",
    "for i, (spatial, country) in enumerate(zip([True, False, True, False],['BE', 'BE', 'SWE', 'SWE'])):\n",
    "    # load model\n",
    "    model = initialize_SIR(country, age_classes, spatial=spatial)\n",
    "    # sim model\n",
    "    out=model.sim(500, method='DOP853', rtol=1e-4)\n",
    "    # quick and dirty linestyle/color\n",
    "    if country == 'BE':\n",
    "        color = 'black'\n",
    "        n=11.59e6\n",
    "    else:\n",
    "        color = 'red'\n",
    "        n=10.42e6\n",
    "    if spatial == False:\n",
    "        linestyle = '-'\n",
    "    else:\n",
    "        linestyle = '--'\n",
    "    # visualize\n",
    "    ax.plot(out.time,out.I.sum(dim=['age_class', 'spatial_unit'])/n*100000, color=color, linestyle=linestyle)\n",
    "\n",
    "ax.set_xlabel('time (days)')\n",
    "ax.set_ylabel('Infected per 100K (-)')\n",
    "plt.savefig('test.png', dpi=600)\n",
    "plt.show()\n",
    "plt.close()"
   ]
  },
  {
   "cell_type": "code",
   "execution_count": null,
   "id": "a6a0601f",
   "metadata": {},
   "outputs": [],
   "source": []
  }
 ],
 "metadata": {
  "kernelspec": {
   "display_name": "Python 3 (ipykernel)",
   "language": "python",
   "name": "python3"
  },
  "language_info": {
   "codemirror_mode": {
    "name": "ipython",
    "version": 3
   },
   "file_extension": ".py",
   "mimetype": "text/x-python",
   "name": "python",
   "nbconvert_exporter": "python",
   "pygments_lexer": "ipython3",
   "version": "3.11.4"
  }
 },
 "nbformat": 4,
 "nbformat_minor": 5
}
