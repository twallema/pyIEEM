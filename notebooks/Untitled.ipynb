{
 "cells": [
  {
   "cell_type": "code",
   "execution_count": 52,
   "id": "0936e4f8",
   "metadata": {},
   "outputs": [],
   "source": [
    "import numpy as np\n",
    "import pandas as pd\n",
    "import matplotlib.pyplot as plt\n",
    "from matplotlib.ticker import MaxNLocator\n",
    "from pyIEEM.data.data import get_hospitalisation_incidence\n",
    "from pyIEEM.models.utils import initialize_model\n",
    "\n",
    "# settings\n",
    "country = 'SWE'\n",
    "nrows=3\n",
    "ncols=4\n",
    "start_calibration = '2020-02-01'\n",
    "end_calibration = '2020-03-22'\n",
    "\n",
    "# get data\n",
    "data = get_hospitalisation_incidence(country)\n",
    "\n",
    "# setup model\n",
    "age_classes = pd.IntervalIndex.from_tuples([(0,5),(5,10),(10,15),(15,20),(20,25),(25,30),(30,35),(35,40),(40,45),(45,50),(50,55),(55,60),(60,65),(65,70),(70,75),(75,80),(80,120)], closed='left')\n",
    "model = initialize_model(country, age_classes, True, simulation_start)"
   ]
  },
  {
   "cell_type": "code",
   "execution_count": 83,
   "id": "a038eea6",
   "metadata": {},
   "outputs": [
    {
     "data": {
      "text/plain": [
       "[(0, 10), (0, 10), (0, 10), (0, 10), (0, 10)]"
      ]
     },
     "execution_count": 83,
     "metadata": {},
     "output_type": "execute_result"
    }
   ],
   "source": [
    "5*[(0,10),]"
   ]
  },
  {
   "cell_type": "code",
   "execution_count": 53,
   "id": "2fda5dee",
   "metadata": {},
   "outputs": [],
   "source": [
    "# helper function to adjust initial condition\n",
    "def update_initial_condition(infected, initial_condition, N_other, N_work):\n",
    "    assert len(infected) == initial_condition.shape[1]\n",
    "    # compute number of contacts per age group per spatial patch (N x G)\n",
    "    N = np.sum(N_other,axis=0) + np.sum(N_work, axis=0)\n",
    "    # pre-allocate output\n",
    "    output = np.zeros(initial_condition.shape, dtype=float)\n",
    "    # loop over spatial patches\n",
    "    for j,inf in enumerate(infected):\n",
    "        # determine index of age group to drop infected in\n",
    "        i = np.random.choice(len(N[:, 0]), p=N[:, 0]/sum(N[:, 0]))\n",
    "        # assign to output\n",
    "        output[i,j] = inf\n",
    "    return output"
   ]
  },
  {
   "cell_type": "code",
   "execution_count": 80,
   "id": "83bac15f",
   "metadata": {},
   "outputs": [],
   "source": [
    "def SSE(theta, data, model, start_date, end_date):\n",
    "    \n",
    "    # change initial condition\n",
    "    model.initial_states['E'] = update_initial_condition(theta, initial_condition, model.parameters['N']['other'], model.parameters['N']['work'])\n",
    "\n",
    "    # simulate model\n",
    "    out = model.sim([start_date, end_date])\n",
    "    \n",
    "    # slice right data out of dataframe\n",
    "    data = data.loc[slice(start_calibration, end_calibration)]\n",
    "\n",
    "    # interpolate model output to dates in data\n",
    "    out = out.interp({'date': data.index.get_level_values('date').unique().values}, method=\"linear\")\n",
    "    \n",
    "    # extract hospitalisations\n",
    "    out = out.Hin.sum(dim='age_class').sel(spatial_unit=data.index.get_level_values('spatial_unit').unique().values).values\n",
    "    \n",
    "    # compute SSE\n",
    "    data = data.values.reshape(out.shape)\n",
    "    SSE = np.sum((out-data)**2)\n",
    "    \n",
    "    return SSE"
   ]
  },
  {
   "cell_type": "code",
   "execution_count": 81,
   "id": "e8441d35",
   "metadata": {},
   "outputs": [
    {
     "name": "stdout",
     "output_type": "stream",
     "text": [
      "[[  0.       0.       0.       0.       0.       0.       0.       0.\n",
      "    0.       0.       0.       0.       0.       0.       0.       0.\n",
      "    0.       0.       0.       0.    ]\n",
      " [  0.       0.       0.       0.       0.       0.       0.       0.\n",
      "    0.       0.       0.       0.       0.       6.303    0.597    0.\n",
      "    0.       0.       0.       1.368 ]\n",
      " [  0.       0.7905   1.5      0.       0.       1.0785   0.       0.\n",
      "    0.       0.       1.2105   0.       1.2315  13.599    0.6435   0.5085\n",
      "    0.       0.       0.       2.799 ]\n",
      " [  0.       2.589    2.8815   1.2255   1.8165   5.6625   1.335    0.\n",
      "    2.247    2.4      6.423    3.498    1.929   51.051    1.5165   1.119\n",
      "    0.6      0.5865   0.951    8.5275]\n",
      " [  0.5895   8.451    4.8945   3.6495   1.6395  17.169    1.5105   1.0215\n",
      "    3.216    4.5     18.5235   6.297    8.0895 110.3895   6.2985   0.8895\n",
      "    1.0395   1.5525   5.904   14.0775]\n",
      " [  0.762    8.019    7.026    2.235    3.912   21.393    3.0555   0.\n",
      "    7.362    5.727   27.6465  12.174   11.3565 144.9225  10.3905   0.687\n",
      "    1.371    3.252    7.9635  22.311 ]]\n",
      "[[8.50190139e-04 6.98785345e-09 2.35827800e-09 1.34555892e-08\n",
      "  1.47079327e-09 2.09910072e-08 1.45707491e-07 2.21617023e-07\n",
      "  4.29206321e-09 6.82886204e-09 1.35573055e-08 6.07830346e-07\n",
      "  3.74212074e-09 1.22540921e-07 6.36398152e-09 2.44001412e-09\n",
      "  2.95108920e-09 1.76041363e-09 4.44062679e-09 5.40987335e-08]\n",
      " [9.21858767e-03 3.16659715e-06 1.10764448e-06 6.05463765e-06\n",
      "  6.76495094e-07 9.59691318e-06 6.36343471e-05 8.95842980e-05\n",
      "  1.95616194e-06 2.84699860e-06 5.66199540e-06 2.32424224e-04\n",
      "  1.64614961e-06 4.66031302e-05 2.49270030e-06 1.14155877e-06\n",
      "  1.24510175e-06 8.26025727e-07 1.90857758e-06 2.27038379e-05]\n",
      " [2.61587849e-01 7.55395564e-04 2.87707619e-04 1.45655536e-03\n",
      "  1.76764351e-04 2.53792683e-03 1.31058234e-02 1.66959414e-02\n",
      "  4.74299711e-04 5.94348158e-04 1.20781172e-03 3.88073446e-02\n",
      "  3.73321123e-04 8.86854911e-03 4.78457557e-04 2.95329510e-04\n",
      "  2.75434324e-04 2.19506592e-04 4.11868204e-04 5.11510769e-03]\n",
      " [1.56756200e+00 7.34689161e-03 2.86424033e-03 1.41918842e-02\n",
      "  1.79826817e-03 2.57672802e-02 1.17595699e-01 1.46122307e-01\n",
      "  4.61696915e-03 5.52242831e-03 1.12805579e-02 3.27070360e-01\n",
      "  3.54787451e-03 8.07477262e-02 4.33890387e-03 2.96448660e-03\n",
      "  2.63055205e-03 2.22312001e-03 3.83264340e-03 4.94949606e-02]\n",
      " [8.30729140e+00 5.96398190e-02 2.37554655e-02 1.14771512e-01\n",
      "  1.53294254e-02 2.19042646e-01 8.75858818e-01 1.07516291e+00\n",
      "  3.76203559e-02 4.32470932e-02 8.90366677e-02 2.32380521e+00\n",
      "  2.81800484e-02 6.35486168e-01 3.35102827e-02 2.47879140e-02\n",
      "  2.11899592e-02 1.88382580e-02 3.00218545e-02 4.06532240e-01]\n",
      " [4.23137456e+01 4.82411644e-01 1.95995160e-01 9.07557685e-01\n",
      "  1.29698602e-01 1.84248527e+00 6.43962516e+00 7.75784584e+00\n",
      "  3.06640703e-01 3.37631892e-01 6.99823820e-01 1.62107162e+01\n",
      "  2.21986010e-01 4.91988467e+00 2.58228956e-01 2.05576721e-01\n",
      "  1.70703814e-01 1.58462243e-01 2.34645140e-01 3.31032606e+00]]\n"
     ]
    },
    {
     "data": {
      "text/plain": [
       "39636.631887232164"
      ]
     },
     "execution_count": 81,
     "metadata": {},
     "output_type": "execute_result"
    }
   ],
   "source": [
    "infected = np.zeros(21)\n",
    "infected[0] = 1\n",
    "\n",
    "SSE(infected, data, model, start_calibration, end_calibration)"
   ]
  },
  {
   "cell_type": "code",
   "execution_count": null,
   "id": "cb407be4",
   "metadata": {},
   "outputs": [],
   "source": []
  }
 ],
 "metadata": {
  "kernelspec": {
   "display_name": "Python 3 (ipykernel)",
   "language": "python",
   "name": "python3"
  },
  "language_info": {
   "codemirror_mode": {
    "name": "ipython",
    "version": 3
   },
   "file_extension": ".py",
   "mimetype": "text/x-python",
   "name": "python",
   "nbconvert_exporter": "python",
   "pygments_lexer": "ipython3",
   "version": "3.11.4"
  }
 },
 "nbformat": 4,
 "nbformat_minor": 5
}
