{
 "cells": [
  {
   "cell_type": "code",
   "execution_count": 14,
   "id": "c066126a",
   "metadata": {},
   "outputs": [],
   "source": [
    "import pandas as pd"
   ]
  },
  {
   "cell_type": "code",
   "execution_count": 23,
   "id": "8db1c74a",
   "metadata": {},
   "outputs": [],
   "source": [
    "# Load data\n",
    "data = pd.read_csv('sector_structure_by_work_SWE_2019.csv', index_col=[0,1]).squeeze()\n",
    "\n",
    "# Define desired format\n",
    "spatial_units = data.index.get_level_values('spatial_unit').unique()\n",
    "economic_activities = ['A', 'B', 'C', 'D', 'E', 'F', 'G', 'H', 'I','J', 'K',\n",
    "                           'L', 'M', 'N', 'O', 'P', 'Q', 'R', 'S', 'T']\n",
    "iterables = [spatial_units, economic_activities]\n",
    "out = pd.DataFrame(index=pd.MultiIndex.from_product(iterables, names=data.index.names), columns=['abs', 'rel'])\n",
    "\n",
    "# Define conversion factors for aggregated sectors\n",
    "# computed in excel using the total number of employees at the NACE 64 level\n",
    "# available in `~/data/interim/eco/national_accounts/SWE/other_accounts_SWE.csv`\n",
    "conversion_factors = {'B_C': [0.024, 0.976], 'D_E': [0.478, 0.522], 'M_N': [0.557, 0.443],\n",
    "                         'R_S_T': [0.447, 0.536, 0.017]}"
   ]
  },
  {
   "cell_type": "code",
   "execution_count": 25,
   "id": "815daa5b",
   "metadata": {},
   "outputs": [],
   "source": [
    "for sector in economic_activities:\n",
    "    # Copy what we have\n",
    "    if sector not in ['B', 'C', 'D', 'E', 'M', 'N', 'R', 'S', 'T']:\n",
    "        out.loc[(slice(None), sector), 'abs'] = data.loc[slice(None), sector].values\n",
    "    \n",
    "    # The rest (I'm not gonna bother doing this elegantly)\n",
    "    if sector == 'B':\n",
    "        out.loc[(slice(None), sector), 'abs'] = 0.024*data.loc[slice(None), 'B, C'].values\n",
    "    if sector == 'C':\n",
    "        out.loc[(slice(None), sector), 'abs'] = 0.976*data.loc[slice(None), 'B, C'].values\n",
    "    if sector == 'D':\n",
    "        out.loc[(slice(None), sector), 'abs'] = 0.478*data.loc[slice(None), 'D, E'].values\n",
    "    if sector == 'E':\n",
    "        out.loc[(slice(None), sector), 'abs'] = 0.522*data.loc[slice(None), 'D, E'].values \n",
    "    if sector == 'M':\n",
    "        out.loc[(slice(None), sector), 'abs'] = 0.557*data.loc[slice(None), 'M, N'].values \n",
    "    if sector == 'N':\n",
    "        out.loc[(slice(None), sector), 'abs'] = 0.443*data.loc[slice(None), 'M, N'].values     \n",
    "    if sector == 'R':\n",
    "        out.loc[(slice(None), sector), 'abs'] = 0.447*data.loc[slice(None), 'R, S, T, U'].values     \n",
    "    if sector == 'S':\n",
    "        out.loc[(slice(None), sector), 'abs'] = 0.536*data.loc[slice(None), 'R, S, T, U'].values     \n",
    "    if sector == 'T':\n",
    "        out.loc[(slice(None), sector), 'abs'] = 0.017*data.loc[slice(None), 'R, S, T, U'].values          "
   ]
  },
  {
   "cell_type": "code",
   "execution_count": 29,
   "id": "0be2b129",
   "metadata": {},
   "outputs": [],
   "source": [
    "for prov in spatial_units:\n",
    "    n = out.loc[prov, 'abs'].sum()\n",
    "    out.loc[prov, 'rel'] = out.loc[prov, 'abs'].values/n"
   ]
  },
  {
   "cell_type": "code",
   "execution_count": 31,
   "id": "8b94a7b5",
   "metadata": {},
   "outputs": [],
   "source": [
    "out.to_csv('sector_structure_by_work_NACE_21_SWE_2019.csv')"
   ]
  },
  {
   "cell_type": "code",
   "execution_count": null,
   "id": "c181399c",
   "metadata": {},
   "outputs": [],
   "source": []
  }
 ],
 "metadata": {
  "kernelspec": {
   "display_name": "Python 3 (ipykernel)",
   "language": "python",
   "name": "python3"
  },
  "language_info": {
   "codemirror_mode": {
    "name": "ipython",
    "version": 3
   },
   "file_extension": ".py",
   "mimetype": "text/x-python",
   "name": "python",
   "nbconvert_exporter": "python",
   "pygments_lexer": "ipython3",
   "version": "3.11.4"
  }
 },
 "nbformat": 4,
 "nbformat_minor": 5
}
